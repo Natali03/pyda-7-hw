{
 "cells": [
  {
   "cell_type": "markdown",
   "metadata": {},
   "source": [
    "## Задание 1"
   ]
  },
  {
   "cell_type": "markdown",
   "metadata": {},
   "source": [
    "Мы делаем MVP dating-сервиса, и у нас есть список парней и девушек (их число может варьироваться):"
   ]
  },
  {
   "cell_type": "code",
   "execution_count": 3,
   "metadata": {},
   "outputs": [],
   "source": [
    "boys = ['Peter', 'Alex', 'John', 'Arthur', 'Richard']\n",
    "girls = ['Kate', 'Liza', 'Kira', 'Emma', 'Trisha']"
   ]
  },
  {
   "cell_type": "markdown",
   "metadata": {},
   "source": [
    "Выдвигаем гипотезу: лучшие рекомендации мы получим, если просто отсортируем имена по алфавиту и познакомим людей с одинаковыми индексами после сортировки! \"Познакомить\" пары нам поможет функция zip, а в цикле распакуем zip-объект и выведем информацию в виде:\n",
    "\n",
    "Идеальные пары:  \n",
    "Alex и Emma  \n",
    "Arthur и Kate  \n",
    "John и Kira  \n",
    "Peter и Liza  \n",
    "Richard и Trisha  "
   ]
  },
  {
   "cell_type": "code",
   "execution_count": 4,
   "metadata": {},
   "outputs": [],
   "source": [
    "boys_1 = sorted(boys)"
   ]
  },
  {
   "cell_type": "code",
   "execution_count": 5,
   "metadata": {},
   "outputs": [],
   "source": [
    "girls_1 = sorted(girls)"
   ]
  },
  {
   "cell_type": "code",
   "execution_count": 6,
   "metadata": {},
   "outputs": [
    {
     "name": "stdout",
     "output_type": "stream",
     "text": [
      "[('Alex', 'Emma'), ('Arthur', 'Kate'), ('John', 'Kira'), ('Peter', 'Liza'), ('Richard', 'Trisha')]\n"
     ]
    }
   ],
   "source": [
    "boys_by_girls = zip(boys_1, girls_1)\n",
    "print(list(boys_by_girls))    "
   ]
  },
  {
   "cell_type": "code",
   "execution_count": 7,
   "metadata": {},
   "outputs": [
    {
     "name": "stdout",
     "output_type": "stream",
     "text": [
      "Идеальные пары:\n",
      "Alex и Emma\n",
      "Arthur и Kate\n",
      "John и Kira\n",
      "Peter и Liza\n",
      "Richard и Trisha\n"
     ]
    }
   ],
   "source": [
    "boys_by_girls = [('Alex', 'Emma'), ('Arthur', 'Kate'), ('John', 'Kira'), ('Peter', 'Liza'), ('Richard', 'Trisha')]\n",
    "print('Идеальные пары:')\n",
    "for couple in boys_by_girls:  \n",
    "    print(couple[0], 'и',couple[1])"
   ]
  },
  {
   "cell_type": "markdown",
   "metadata": {},
   "source": [
    "## Задание 2"
   ]
  },
  {
   "cell_type": "markdown",
   "metadata": {},
   "source": [
    "У нас есть список, содержащий информацию о среднедневной температуре в Фаренгейтах за недельный период по странам.\n",
    "Необходимо написать код, который рассчитает среднюю температуру за неделю в Цельсиях для каждой страны."
   ]
  },
  {
   "cell_type": "code",
   "execution_count": 4,
   "metadata": {},
   "outputs": [],
   "source": [
    "countries_temperature = [\n",
    " ['Thailand', [75.2, 77, 78.8, 73.4, 68, 75.2, 77]],\n",
    " ['Germany', [57.2, 55.4, 59, 59, 53.6, 55.4, 57.2]],\n",
    " ['Russia', [35.6, 37.4, 39.2, 41, 42.8, 39.2, 35.6]],\n",
    " ['Poland', [50, 50, 53.6, 57.2, 55.4, 55.4, 51.8]],\n",
    "]"
   ]
  },
  {
   "cell_type": "code",
   "execution_count": 5,
   "metadata": {},
   "outputs": [
    {
     "name": "stdout",
     "output_type": "stream",
     "text": [
      "['Thailand', [75.2, 77, 78.8, 73.4, 68, 75.2, 77]]\n",
      "75.2\n",
      "77\n",
      "78.8\n",
      "73.4\n",
      "68\n",
      "75.2\n",
      "77\n",
      "167.0\n",
      "Результат: средняя температура в Thailand равна 23.86\n",
      "['Germany', [57.2, 55.4, 59, 59, 53.6, 55.4, 57.2]]\n",
      "57.2\n",
      "55.4\n",
      "59\n",
      "59\n",
      "53.6\n",
      "55.4\n",
      "57.2\n",
      "96.0\n",
      "Результат: средняя температура в Germany равна 13.71\n",
      "['Russia', [35.6, 37.4, 39.2, 41, 42.8, 39.2, 35.6]]\n",
      "35.6\n",
      "37.4\n",
      "39.2\n",
      "41\n",
      "42.8\n",
      "39.2\n",
      "35.6\n",
      "26.0\n",
      "Результат: средняя температура в Russia равна 3.71\n",
      "['Poland', [50, 50, 53.6, 57.2, 55.4, 55.4, 51.8]]\n",
      "50\n",
      "50\n",
      "53.6\n",
      "57.2\n",
      "55.4\n",
      "55.4\n",
      "51.8\n",
      "83.0\n",
      "Результат: средняя температура в Poland равна 11.86\n"
     ]
    }
   ],
   "source": [
    "for country in countries_temperature:\n",
    "    average_temp = 0\n",
    "    print(country)\n",
    "    for temperature in country[1]:\n",
    "        print(temperature)     \n",
    "        average_temp += (temperature - 32) * 5 / 9\n",
    "    print(average_temp)\n",
    "    print('Результат: средняя температура в', country[0], 'равна', round(average_temp/len(country[1]), 2))"
   ]
  },
  {
   "cell_type": "markdown",
   "metadata": {},
   "source": [
    "## Задание 3"
   ]
  },
  {
   "cell_type": "markdown",
   "metadata": {},
   "source": [
    "Дан поток логов по количеству просмотренных страниц для каждого пользователя. Список отсортирован по ID пользователя. Вам необходимо написать алгоритм, который считает среднее значение просмотров на пользователя. \n",
    "Т. е. надо посчитать отношение суммы всех просмотров к количеству уникальных пользователей."
   ]
  },
  {
   "cell_type": "code",
   "execution_count": 65,
   "metadata": {},
   "outputs": [],
   "source": [
    "stream = [\n",
    "    '2018-01-01,user1,3',\n",
    "    '2018-01-07,user1,4',\n",
    "    '2018-03-29,user1,1',\n",
    "    '2018-04-04,user1,13',\n",
    "    '2018-01-05,user2,7',\n",
    "    '2018-06-14,user3,4',\n",
    "    '2018-07-02,user3,10',\n",
    "    '2018-03-21,user4,19',\n",
    "    '2018-03-22,user4,4',\n",
    "    '2018-04-22,user4,8',\n",
    "    '2018-05-03,user4,9',\n",
    "    '2018-05-11,user4,11',\n",
    "]"
   ]
  },
  {
   "cell_type": "code",
   "execution_count": 127,
   "metadata": {},
   "outputs": [
    {
     "name": "stdout",
     "output_type": "stream",
     "text": [
      "[['2018-01-01', 'user1', 3], ['2018-01-07', 'user1', 4], ['2018-03-29', 'user1', 1], ['2018-04-04', 'user1', 13], ['2018-01-05', 'user2', 7], ['2018-06-14', 'user3', 4], ['2018-07-02', 'user3', 10], ['2018-03-21', 'user4', 19], ['2018-03-22', 'user4', 4], ['2018-04-22', 'user4', 8], ['2018-05-03', 'user4', 9], ['2018-05-11', 'user4', 11]]\n"
     ]
    }
   ],
   "source": [
    "stream_1 = []\n",
    "for line in stream:\n",
    "    stream_1.append(line.split(','))\n",
    "    stream_1[-1][2] = int(stream_1[-1][2])\n",
    "print(stream_1)"
   ]
  },
  {
   "cell_type": "code",
   "execution_count": 129,
   "metadata": {},
   "outputs": [
    {
     "name": "stdout",
     "output_type": "stream",
     "text": [
      "{'user1': 3}\n",
      "{'user1': 7}\n",
      "{'user1': 8}\n",
      "{'user1': 21}\n",
      "{'user1': 21, 'user2': 7}\n",
      "{'user1': 21, 'user2': 7, 'user3': 4}\n",
      "{'user1': 21, 'user2': 7, 'user3': 14}\n",
      "{'user1': 21, 'user2': 7, 'user3': 14, 'user4': 19}\n",
      "{'user1': 21, 'user2': 7, 'user3': 14, 'user4': 23}\n",
      "{'user1': 21, 'user2': 7, 'user3': 14, 'user4': 31}\n",
      "{'user1': 21, 'user2': 7, 'user3': 14, 'user4': 40}\n",
      "{'user1': 21, 'user2': 7, 'user3': 14, 'user4': 51}\n"
     ]
    }
   ],
   "source": [
    "stream_2 = {}\n",
    "for line in stream_1:\n",
    "    stream_2.setdefault(line[1], 0)\n",
    "    stream_2[line[1]] += line[2]\n",
    "    print(stream_2)"
   ]
  },
  {
   "cell_type": "code",
   "execution_count": 130,
   "metadata": {},
   "outputs": [
    {
     "name": "stdout",
     "output_type": "stream",
     "text": [
      "93\n"
     ]
    }
   ],
   "source": [
    "# посчитаем общее количество просмотров\n",
    "views_sum = sum(stream_2.values())\n",
    "print(views_sum)"
   ]
  },
  {
   "cell_type": "code",
   "execution_count": 131,
   "metadata": {},
   "outputs": [
    {
     "name": "stdout",
     "output_type": "stream",
     "text": [
      "Среднее значение просмотров на пользователя - 23\n"
     ]
    }
   ],
   "source": [
    "print('Среднее значение просмотров на пользователя - {:.0f}'.format((views_sum/len(stream_2))))"
   ]
  },
  {
   "cell_type": "markdown",
   "metadata": {},
   "source": [
    "## Задание 4"
   ]
  },
  {
   "cell_type": "markdown",
   "metadata": {},
   "source": [
    "Дана статистика рекламных кампаний по дням. Напишите алгоритм, который по паре дата-кампания ищет значение численного столбца. \n",
    "Т. е. для даты '2018-01-01' и 'google' нужно получить число 25. \n",
    "Считайте, что все комбинации дата-кампания уникальны."
   ]
  },
  {
   "cell_type": "code",
   "execution_count": 3,
   "metadata": {},
   "outputs": [],
   "source": [
    "stats = [\n",
    "    ['2018-01-01', 'google', 25],\n",
    "    ['2018-01-01', 'yandex', 65],\n",
    "    ['2018-01-01', 'market', 89],\n",
    "    ['2018-01-02', 'google', 574],\n",
    "    ['2018-01-02', 'yandex', 249],\n",
    "    ['2018-01-02', 'market', 994],\n",
    "    ['2018-01-03', 'google', 1843],\n",
    "    ['2018-01-03', 'yandex', 1327],\n",
    "    ['2018-01-03', 'market', 1764],\n",
    "]"
   ]
  },
  {
   "cell_type": "code",
   "execution_count": 4,
   "metadata": {},
   "outputs": [
    {
     "name": "stdout",
     "output_type": "stream",
     "text": [
      "Введите дату 2018-01-02\n",
      "Введите компанию google\n",
      "574\n"
     ]
    }
   ],
   "source": [
    "data = input('Введите дату ')\n",
    "company = input('Введите компанию ')\n",
    "for element in stats:\n",
    "    if data == element [0] and company == element [1]:\n",
    "        print(element [2])"
   ]
  }
 ],
 "metadata": {
  "kernelspec": {
   "display_name": "Python 3",
   "language": "python",
   "name": "python3"
  },
  "language_info": {
   "codemirror_mode": {
    "name": "ipython",
    "version": 3
   },
   "file_extension": ".py",
   "mimetype": "text/x-python",
   "name": "python",
   "nbconvert_exporter": "python",
   "pygments_lexer": "ipython3",
   "version": "3.7.4"
  }
 },
 "nbformat": 4,
 "nbformat_minor": 2
}
