{
 "cells": [
  {
   "cell_type": "markdown",
   "metadata": {},
   "source": [
    "# Домашнее задание\n",
    "1. Переведите содержимое файла purchase_log.txt в словарь purchases вида:\n",
    "```python\n",
    "{'1840e0b9d4': 'Продукты', ...}\n",
    "```\n",
    "\n",
    "2. Для каждого user_id в файле visit_log.csv добавьте третий столбец с категорией покупки (если покупка была).\n",
    "\n",
    "3. Запишите в файл funnel.csv визиты из файла visit_log.csv, в которых были покупки с указанием категории.\n",
    "\n",
    "Учтите условия на данные:\n",
    "- содержимое purchase_log.txt помещается в оперативную память компьютера\n",
    "- содержимое visit_log.csv - нет; используйте только построчную обработку этого файла"
   ]
  },
  {
   "cell_type": "code",
   "execution_count": 1,
   "metadata": {},
   "outputs": [
    {
     "data": {
      "text/plain": [
       "'category'"
      ]
     },
     "execution_count": 1,
     "metadata": {},
     "output_type": "execute_result"
    }
   ],
   "source": [
    "#перевод файла в словарь\n",
    "import json\n",
    "with open('purchase_log.txt', encoding = 'utf-8') as file:\n",
    "    purchases = {}\n",
    "    dictionary = {}\n",
    "    for line in file:\n",
    "        dictionary = json.loads(line)\n",
    "        purchases[dictionary['user_id']] = dictionary['category']\n",
    "purchases.pop('user_id')"
   ]
  },
  {
   "cell_type": "code",
   "execution_count": 21,
   "metadata": {},
   "outputs": [],
   "source": [
    "new_list = []\n",
    "with open ('visit_log.csv', 'r') as f:\n",
    "    with open ('funnel.csv', 'w') as v:\n",
    "        for line in f:\n",
    "            L = line.strip().split(',')\n",
    "            if L[0] in list_keys:\n",
    "                new_list.append(L[0] + ',' + L[1] + ',' + purchases[L[0]]) \n",
    "        for element in new_list:  \n",
    "            v.write(element)\n",
    "            v.write('\\n')"
   ]
  },
  {
   "cell_type": "code",
   "execution_count": 22,
   "metadata": {},
   "outputs": [
    {
     "name": "stdout",
     "output_type": "stream",
     "text": [
      "1840e0b9d4,other,Продукты\n",
      "\n",
      "4e4f90fcfb,context,Электроника\n",
      "\n",
      "afea8d72fc,other,Электроника\n",
      "\n",
      "2824221f38,email,Продукты\n",
      "\n",
      "373a6055fe,other,Бытовая техника\n",
      "\n"
     ]
    }
   ],
   "source": [
    "with open ('funnel.csv','r') as m:\n",
    "    for i in range(5):\n",
    "        print(m.readline())"
   ]
  },
  {
   "cell_type": "code",
   "execution_count": null,
   "metadata": {},
   "outputs": [],
   "source": []
  }
 ],
 "metadata": {
  "kernelspec": {
   "display_name": "Python 3",
   "language": "python",
   "name": "python3"
  },
  "language_info": {
   "codemirror_mode": {
    "name": "ipython",
    "version": 3
   },
   "file_extension": ".py",
   "mimetype": "text/x-python",
   "name": "python",
   "nbconvert_exporter": "python",
   "pygments_lexer": "ipython3",
   "version": "3.7.4"
  }
 },
 "nbformat": 4,
 "nbformat_minor": 2
}
