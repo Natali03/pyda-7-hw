{
 "cells": [
  {
   "cell_type": "markdown",
   "metadata": {},
   "source": [
    "## Задание 1"
   ]
  },
  {
   "cell_type": "markdown",
   "metadata": {},
   "source": [
    "Дан список вида:"
   ]
  },
  {
   "cell_type": "code",
   "execution_count": 100,
   "metadata": {},
   "outputs": [],
   "source": [
    "data = [\n",
    "    [13, 25, 23, 34],\n",
    "    [45, 32, 44, 47],\n",
    "    [12, 33, 23, 95],\n",
    "    [13, 53, 34, 35]\n",
    "]"
   ]
  },
  {
   "cell_type": "code",
   "execution_count": 101,
   "metadata": {},
   "outputs": [],
   "source": [
    "def my_function(data):\n",
    "    sum_diag = 0\n",
    "    x = 0\n",
    "    y = 0\n",
    "    x = y\n",
    "    while x < len(data):\n",
    "        sum_diag += data[x][y]\n",
    "        x += 1\n",
    "        y += 1\n",
    "    return sum_diag"
   ]
  },
  {
   "cell_type": "code",
   "execution_count": 102,
   "metadata": {},
   "outputs": [
    {
     "data": {
      "text/plain": [
       "103"
      ]
     },
     "execution_count": 102,
     "metadata": {},
     "output_type": "execute_result"
    }
   ],
   "source": [
    "my_function(data)"
   ]
  },
  {
   "cell_type": "markdown",
   "metadata": {},
   "source": [
    "Напишите функцию, которая возвращает сумму элементов на диагонали. Т. е. 13+32+23+35.  \n",
    "Список может быть любой длины, но всегда является \"квадратным\" (количество элементов во вложенных списках равно их количеству)."
   ]
  },
  {
   "cell_type": "markdown",
   "metadata": {},
   "source": [
    "## Задание 2"
   ]
  },
  {
   "cell_type": "markdown",
   "metadata": {},
   "source": [
    "Напишите функцию, возвращающую сумму первых n чисел Фибоначчи (для этого вам может понадобится ознакомиться с рекурсией)."
   ]
  },
  {
   "cell_type": "code",
   "execution_count": 6,
   "metadata": {},
   "outputs": [],
   "source": [
    "def fibonacci(n):\n",
    "    fib1 = fib2 = 1\n",
    " \n",
    "    if n < 2:\n",
    "        quit()\n",
    " \n",
    "    print(fib1, end=' ')\n",
    "    print(fib2, end=' ')\n",
    "    for i in range(2, n):\n",
    "        fib1, fib2 = fib2, fib1 + fib2\n",
    "        print(fib2, end=' ')\n",
    " \n",
    "    return"
   ]
  },
  {
   "cell_type": "code",
   "execution_count": 7,
   "metadata": {},
   "outputs": [
    {
     "name": "stdout",
     "output_type": "stream",
     "text": [
      "1 1 2 3 5 8 13 21 34 55 "
     ]
    }
   ],
   "source": [
    "fibonacci(10)\n"
   ]
  },
  {
   "cell_type": "markdown",
   "metadata": {},
   "source": [
    "## Задание 3\n"
   ]
  },
  {
   "cell_type": "markdown",
   "metadata": {},
   "source": [
    "Напишите функцию, преобразующую произвольный список вида ['2018-01-01', 'yandex', 'cpc', 100] (он может быть любой длины) в словарь {'2018-01-01': {'yandex': {'cpc': 100}}}"
   ]
  },
  {
   "cell_type": "code",
   "execution_count": 1,
   "metadata": {},
   "outputs": [],
   "source": [
    "my_list = ['2018-01-01', 'yandex', 'cpc', 100]\n",
    "def convert_to_dict(my_list):\n",
    "    length = len(my_list)\n",
    "\n",
    "    if length == 2:\n",
    "        return {my_list[0]: my_list[1]}\n",
    "    elif length > 2:\n",
    "        return {my_list[0]: convert_to_dict(my_list[1::])}\n",
    "    else:\n",
    "        'Min length is 2'"
   ]
  },
  {
   "cell_type": "code",
   "execution_count": 2,
   "metadata": {},
   "outputs": [
    {
     "data": {
      "text/plain": [
       "{'2018-01-01': {'yandex': {'cpc': 100}}}"
      ]
     },
     "execution_count": 2,
     "metadata": {},
     "output_type": "execute_result"
    }
   ],
   "source": [
    "convert_to_dict(my_list)"
   ]
  },
  {
   "cell_type": "markdown",
   "metadata": {},
   "source": [
    "## Задание 4"
   ]
  },
  {
   "cell_type": "markdown",
   "metadata": {},
   "source": [
    "Вы работаете секретарем и вам постоянно приходят различные документы. Вы должны быть очень внимательны, чтобы не потерять ни один документ. Каталог документов хранится в следующем виде:"
   ]
  },
  {
   "cell_type": "code",
   "execution_count": 39,
   "metadata": {},
   "outputs": [],
   "source": [
    "documents = [\n",
    "    {'type': 'passport', 'number': '2207 876234', 'name': 'Василий Гупкин'},\n",
    "    {'type': 'invoice', 'number': '11-2', 'name': 'Геннадий Покемонов'},\n",
    "    {'type': 'insurance', 'number': '10006', 'name': 'Аристарх Павлов'}\n",
    "]"
   ]
  },
  {
   "cell_type": "markdown",
   "metadata": {},
   "source": [
    "Перечень полок, на которых находятся документы хранится в следующем виде:"
   ]
  },
  {
   "cell_type": "code",
   "execution_count": 40,
   "metadata": {},
   "outputs": [],
   "source": [
    "directories = {\n",
    "    '1': ['2207 876234', '11-2', '5455 028765'],\n",
    "    '2': ['10006', '5400 028765', '5455 002299'],\n",
    "    '3': []\n",
    "}"
   ]
  },
  {
   "cell_type": "markdown",
   "metadata": {},
   "source": [
    "Необходимо реализовать пользовательские команды (внимание! это не название функций, которые должны быть выразительными, а команды, которые вводит пользователь, чтобы получить необходимый результат):\n",
    "  \n",
    "- p – people – команда, которая спросит номер документа и выведет имя человека, которому он принадлежит;  \n",
    "- s – shelf – команда, которая спросит номер документа и выведет номер полки, на которой он находится  \n",
    "Правильно обработайте ситуацию, когда пользователь будет вводить несуществующий документ.\n",
    "- l – list – команда, которая выведет список всех документов в формате   \n",
    "**passport \"2207 876234\" \"Василий Гупкин\"**  \n",
    "- as – add shelf – команда, которая спросит номер новой полки и добавит ее в перечень\n",
    "- d – delete – команда, которая спросит номер документа и удалит его из каталога и из перечня полок. Предусмотрите сценарий, когда пользователь вводит несуществующий документ;  \n",
    "- m – move – команда, которая спросит номер документа и целевую полку и переместит его с текущей полки на целевую. Корректно обработайте кейсы, когда пользователь пытается переместить несуществующий документ или переместить документ на несуществующую полку;  \n",
    "- a – add – команда, которая добавит новый документ в каталог и в перечень полок, спросив его номер, тип, имя владельца и номер полки, на котором он будет храниться."
   ]
  },
  {
   "cell_type": "code",
   "execution_count": 41,
   "metadata": {},
   "outputs": [],
   "source": [
    "def name_people():\n",
    "    num = input('Введите номер документа: ')\n",
    "    for el in documents:\n",
    "        if num == el.get('number'):\n",
    "            print(el.get('name'))\n",
    "            return\n",
    "    print('Документ не найден')   \n",
    "    return"
   ]
  },
  {
   "cell_type": "code",
   "execution_count": 42,
   "metadata": {},
   "outputs": [
    {
     "name": "stdout",
     "output_type": "stream",
     "text": [
      "Введите номер документа: 11-2\n",
      "Геннадий Покемонов\n"
     ]
    }
   ],
   "source": [
    "name_people()"
   ]
  },
  {
   "cell_type": "code",
   "execution_count": 43,
   "metadata": {},
   "outputs": [],
   "source": [
    "def number_shelf():\n",
    "    num_ = input('Введите номер документа: ')\n",
    "    for key, value in directories.items():\n",
    "        if num_ in value:\n",
    "            print('Полка номер', key)\n",
    "            return\n",
    "    print('Документ не найден') \n",
    "    return"
   ]
  },
  {
   "cell_type": "code",
   "execution_count": 45,
   "metadata": {},
   "outputs": [
    {
     "name": "stdout",
     "output_type": "stream",
     "text": [
      "Введите номер документа: 11-2\n",
      "Полка номер 1\n"
     ]
    }
   ],
   "source": [
    "number_shelf()"
   ]
  },
  {
   "cell_type": "code",
   "execution_count": 46,
   "metadata": {},
   "outputs": [],
   "source": [
    "def list_documents():\n",
    "    for document in documents:\n",
    "        print('{} \"{}\" \"{}\"'.format(document['type'], document['number'], document['name']))\n",
    "    return"
   ]
  },
  {
   "cell_type": "code",
   "execution_count": 47,
   "metadata": {},
   "outputs": [
    {
     "name": "stdout",
     "output_type": "stream",
     "text": [
      "passport \"2207 876234\" \"Василий Гупкин\"\n",
      "invoice \"11-2\" \"Геннадий Покемонов\"\n",
      "insurance \"10006\" \"Аристарх Павлов\"\n"
     ]
    }
   ],
   "source": [
    "list_documents()"
   ]
  },
  {
   "cell_type": "code",
   "execution_count": 48,
   "metadata": {},
   "outputs": [],
   "source": [
    "def add_shelf_num():\n",
    "    new_num = input('Введите номер новой полки: ')\n",
    "    if new_num in directories.keys():\n",
    "        print('Такая полка уже существует')\n",
    "        return\n",
    "    new_dict = {new_num: []}\n",
    "    directories.update(new_dict)\n",
    "    print('Полка добавлена')\n",
    "    return"
   ]
  },
  {
   "cell_type": "code",
   "execution_count": 49,
   "metadata": {},
   "outputs": [
    {
     "name": "stdout",
     "output_type": "stream",
     "text": [
      "Введите номер новой полки: 4\n",
      "Полка добавлена\n"
     ]
    }
   ],
   "source": [
    "add_shelf_num()"
   ]
  },
  {
   "cell_type": "code",
   "execution_count": 50,
   "metadata": {},
   "outputs": [],
   "source": [
    "def del_document():\n",
    "    arg_number = input('Введите номер документа: ')\n",
    "    for directory_value in directories.values():\n",
    "        if arg_number in directory_value:\n",
    "            directory_value.remove(arg_number)                          \n",
    "            for element in documents:\n",
    "                for i, element in enumerate(documents):\n",
    "                    if element['number'] == arg_number:\n",
    "                        del(documents[i])\n",
    "                        print('Документ удален из каталога и полки')\n",
    "                        return  \n",
    "    print('Документ не найден')\n",
    "    return"
   ]
  },
  {
   "cell_type": "code",
   "execution_count": 51,
   "metadata": {},
   "outputs": [
    {
     "name": "stdout",
     "output_type": "stream",
     "text": [
      "Введите номер документа: 10006\n",
      "Документ удален из каталога и полки\n"
     ]
    }
   ],
   "source": [
    "del_document()"
   ]
  },
  {
   "cell_type": "code",
   "execution_count": 52,
   "metadata": {},
   "outputs": [],
   "source": [
    "def move_doc():\n",
    "    doc_number = input('Введите номер документа который необходимо переместить: ')\n",
    "    for directories_ in directories.values():\n",
    "        if doc_number in directories_:\n",
    "            directories_.remove(doc_number)\n",
    "            new_shelf_num = input('Введите номер новой полки куда будет перемещен документ: ')\n",
    "            directories[new_shelf_num].append(doc_number)\n",
    "            print('Документ перемещен на указанную полку')\n",
    "            return\n",
    "    print('Документ не найден')\n",
    "    print('Полка не найдена')\n",
    "    return"
   ]
  },
  {
   "cell_type": "code",
   "execution_count": 53,
   "metadata": {},
   "outputs": [
    {
     "name": "stdout",
     "output_type": "stream",
     "text": [
      "Введите номер документа который необходимо переместить: 11-2\n",
      "Введите номер новой полки куда будет перемещен документ: 3\n",
      "Документ перемещен на указанную полку\n"
     ]
    }
   ],
   "source": [
    "move_doc()"
   ]
  },
  {
   "cell_type": "code",
   "execution_count": 54,
   "metadata": {},
   "outputs": [],
   "source": [
    "def my_function():\n",
    "    type_command = input('Выберите необходимую команду: ')\n",
    "    print('p – people – команда, которая спросит номер документа и выведет имя человека, которому он принадлежит;')\n",
    "    print('s – shelf – команда, которая спросит номер документа и выведет номер полки, на которой он находится;')\n",
    "    print('l– list – команда, которая выведет список всех документов в формате passport \"2207 876234\" \"Василий Гупкин\";')\n",
    "    print('as – add shelf – команда, которая спросит номер новой полки и добавит ее в перечень;')\n",
    "    print('d – delete – команда, которая спросит номер документа и удалит его из каталога и из перечня полок. Предусмотрите сценарий, когда пользователь вводит несуществующий документ;')\n",
    "    print('m – move – команда, которая спросит номер документа и целевую полку и переместит его с текущей полки на целевую. Корректно обработайте кейсы, когда пользователь пытается переместить несуществующий документ или переместить документ на несуществующую полку;')      \n",
    "    print('a – add – команда, которая добавит новый документ в каталог и в перечень полок, спросив его номер, тип, имя владельца и номер полки, на котором он будет храниться;')\n",
    "        \n",
    "    if type_command == 'p':\n",
    "        name_people()\n",
    "    elif type_command == 's':\n",
    "        number_shelf()\n",
    "    elif type_command == 'l':\n",
    "        list_documents()\n",
    "    elif type_command == 'as':\n",
    "        add_shelf_num()\n",
    "    elif type_command == 'd':\n",
    "        del_document()\n",
    "    elif type_command == 'm':\n",
    "        move_doc()\n",
    "    elif type_command == 'a':\n",
    "        new_doc_add_on_shelf()    \n",
    "    else:\n",
    "        print('Такая операция не поддерживается')\n",
    "        return  \n"
   ]
  },
  {
   "cell_type": "code",
   "execution_count": 55,
   "metadata": {},
   "outputs": [
    {
     "name": "stdout",
     "output_type": "stream",
     "text": [
      "Выберите необходимую команду: p\n",
      "p – people – команда, которая спросит номер документа и выведет имя человека, которому он принадлежит;\n",
      "s – shelf – команда, которая спросит номер документа и выведет номер полки, на которой он находится;\n",
      "l– list – команда, которая выведет список всех документов в формате passport \"2207 876234\" \"Василий Гупкин\";\n",
      "as – add shelf – команда, которая спросит номер новой полки и добавит ее в перечень;\n",
      "d – delete – команда, которая спросит номер документа и удалит его из каталога и из перечня полок. Предусмотрите сценарий, когда пользователь вводит несуществующий документ;\n",
      "m – move – команда, которая спросит номер документа и целевую полку и переместит его с текущей полки на целевую. Корректно обработайте кейсы, когда пользователь пытается переместить несуществующий документ или переместить документ на несуществующую полку;\n",
      "a – add – команда, которая добавит новый документ в каталог и в перечень полок, спросив его номер, тип, имя владельца и номер полки, на котором он будет храниться;\n",
      "Введите номер документа: 11-2\n",
      "Геннадий Покемонов\n"
     ]
    }
   ],
   "source": [
    "my_function()"
   ]
  },
  {
   "cell_type": "code",
   "execution_count": null,
   "metadata": {},
   "outputs": [],
   "source": []
  }
 ],
 "metadata": {
  "kernelspec": {
   "display_name": "Python 3",
   "language": "python",
   "name": "python3"
  },
  "language_info": {
   "codemirror_mode": {
    "name": "ipython",
    "version": 3
   },
   "file_extension": ".py",
   "mimetype": "text/x-python",
   "name": "python",
   "nbconvert_exporter": "python",
   "pygments_lexer": "ipython3",
   "version": "3.7.4"
  }
 },
 "nbformat": 4,
 "nbformat_minor": 2
}
